{
 "cells": [
  {
   "cell_type": "code",
   "execution_count": 1,
   "id": "4465ff42-820e-4775-880e-193def3a01f5",
   "metadata": {},
   "outputs": [],
   "source": [
    "import numpy as np\n",
    "from ultralytics import YOLO\n",
    "import cv2\n",
    "import os\n",
    "import csv\n",
    "import pickle\n",
    "\n",
    "FRAMES_PER_SEQUENCE = 6\n",
    "OVERLAP = 3\n",
    "\n",
    "rawvideos_dir = \"raw\"\n",
    "video_fp = \"raw/short10.mp4\" #video path\n",
    "output_dir = \"labelled\" \n",
    "output_name = f\"{video_fp[len(rawvideos_dir)+1:][:-4]}\"\n",
    "frames_fp = f\"{output_dir}/{output_name}/frames\""
   ]
  },
  {
   "cell_type": "code",
   "execution_count": 31,
   "id": "0691deea-8688-45d8-ba54-cfd78c00600b",
   "metadata": {},
   "outputs": [],
   "source": [
    "'''\n",
    "Params: \n",
    "frame_path: frames \n",
    "boxes_path: csv file with\n",
    "    - Column 0: video name\n",
    "    - Column 1: sequence number\n",
    "    - Column 2: boxes number \n",
    "    - Column 3: \n",
    "'''\n",
    "\n",
    "def label_person_ids(boxes_path):\n",
    "    data = np.genfromtxt(boxes_path, delimiter=',')[:,1:]\n",
    "    video_name = np.genfromtxt(boxes_path, dtype=str, delimiter=',')[0,0]\n",
    "    sequences = np.unique(data[:,0])\n",
    "    \n",
    "    # Make a directory for sequence data if not already exist\n",
    "    sequence_path = f'labelled/{video_name}/sequences'\n",
    "    if not os.path.exists(sequence_path):\n",
    "        os.makedirs(sequence_path)\n",
    "    for seq in sequences:\n",
    "        seq = int(seq)\n",
    "        sequence_data = data[data[:,0]==seq,:]\n",
    "        \n",
    "        beg_frame, end_frame = int(sequence_data[0,1]), int(sequence_data[-1,1])\n",
    "        for frame_num in range(beg_frame, end_frame+1):\n",
    "            # find the frame image to edit\n",
    "            frame_name = f'labelled/{video_name}/frames/frame_{frame_num:04d}'\n",
    "            frame_img = cv2.imread(f'{frame_name}.jpg')\n",
    "\n",
    "            # label the person ID on the bounding box\n",
    "            frame_data = sequence_data[sequence_data[:,1]==frame_num,:] \n",
    "            for i in range(frame_data.shape[0]):\n",
    "                x1,y1 = frame_data[i,3],frame_data[i,4]\n",
    "                person_ID = int(frame_data[i,2])\n",
    "                cv2.putText(frame_img, str(person_ID), (int(x1), int(y1) - 10), cv2.FONT_HERSHEY_SIMPLEX, 3, (255, 255, 255), 3)\n",
    "            \n",
    "            cv2.imwrite(f'{sequence_path}/sequence_{seq:04d}_frame_{frame_num-beg_frame}.jpg', frame_img)\n",
    "\n"
   ]
  },
  {
   "cell_type": "code",
   "execution_count": 35,
   "id": "9c0816fa-b05f-46fb-81f8-35dc3e676a81",
   "metadata": {},
   "outputs": [],
   "source": [
    "label_person_ids(f'{output_dir}/{output_name}/boxes.csv')"
   ]
  }
 ],
 "metadata": {
  "kernelspec": {
   "display_name": "Python 3 (ipykernel)",
   "language": "python",
   "name": "python3"
  },
  "language_info": {
   "codemirror_mode": {
    "name": "ipython",
    "version": 3
   },
   "file_extension": ".py",
   "mimetype": "text/x-python",
   "name": "python",
   "nbconvert_exporter": "python",
   "pygments_lexer": "ipython3",
   "version": "3.10.9"
  }
 },
 "nbformat": 4,
 "nbformat_minor": 5
}
