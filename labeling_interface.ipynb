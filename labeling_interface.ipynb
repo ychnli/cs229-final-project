{
 "cells": [
  {
   "cell_type": "code",
   "execution_count": 1,
   "id": "4465ff42-820e-4775-880e-193def3a01f5",
   "metadata": {},
   "outputs": [],
   "source": [
    "import numpy as np\n",
    "from ultralytics import YOLO\n",
    "import cv2\n",
    "import os\n",
    "import csv\n",
    "\n",
    "FRAMES_PER_SEQUENCE = 10\n",
    "OVERLAP = 5"
   ]
  },
  {
   "cell_type": "code",
   "execution_count": 2,
   "id": "0691deea-8688-45d8-ba54-cfd78c00600b",
   "metadata": {},
   "outputs": [],
   "source": [
    "'''\n",
    "Params: \n",
    "\n",
    "frame_path: filepath of the frame (image file) \n",
    "person_ids: \n",
    "'''\n",
    "\n",
    "def draw_boxes_with_ids(frame_path, person_ids, positional_indexes, boxes):\n",
    "    frame = cv2.imread(f'{frame_path}.jpg')\n",
    "    \n",
    "    for person in person_ids:\n",
    "        x1, y1, x2, y2 = boxes.xyxy[positional_indexes[person]].numpy()\n",
    "\n",
    "        # Display person ID\n",
    "        cv2.putText(frame, str(person), (int(x1), int(y1) - 10), cv2.FONT_HERSHEY_SIMPLEX, 3, (255, 255, 255), 3)\n",
    "    \n",
    "    cv2.imwrite(f'{frame_path}_labels.jpg', frame)\n"
   ]
  }
 ],
 "metadata": {
  "kernelspec": {
   "display_name": "Python 3 (ipykernel)",
   "language": "python",
   "name": "python3"
  },
  "language_info": {
   "codemirror_mode": {
    "name": "ipython",
    "version": 3
   },
   "file_extension": ".py",
   "mimetype": "text/x-python",
   "name": "python",
   "nbconvert_exporter": "python",
   "pygments_lexer": "ipython3",
   "version": "3.10.9"
  }
 },
 "nbformat": 4,
 "nbformat_minor": 5
}
