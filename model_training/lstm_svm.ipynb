{
  "nbformat": 4,
  "nbformat_minor": 0,
  "metadata": {
    "colab": {
      "provenance": []
    },
    "kernelspec": {
      "name": "python3",
      "display_name": "Python 3"
    },
    "language_info": {
      "name": "python"
    }
  },
  "cells": [
    {
      "cell_type": "code",
      "execution_count": 68,
      "metadata": {
        "id": "JayVH_lg2nEi"
      },
      "outputs": [],
      "source": [
        "import tensorflow as tf\n",
        "import keras\n",
        "import matplotlib.pyplot as plt\n",
        "from sklearn.model_selection import train_test_split\n",
        "from sklearn.metrics import balanced_accuracy_score, accuracy_score, confusion_matrix\n",
        "from sklearn.svm import SVC  # Import SVM\n",
        "import numpy as np\n",
        "import os\n",
        "from google.colab import drive\n",
        "from sklearn.metrics import confusion_matrix\n",
        "from tensorflow.keras.models import Model\n",
        "from tensorflow.keras.layers import Input, Bidirectional, LSTM, Dense, TimeDistributed, Flatten"
      ]
    },
    {
      "cell_type": "code",
      "source": [
        "#Globals\n",
        "num_features = 595\n",
        "num_classes = 4 # no punch, straight, hook, uppercut\n",
        "NUM_FEATURES_PER_SEQUENCE = 98"
      ],
      "metadata": {
        "id": "yc70ETD535dZ"
      },
      "execution_count": 69,
      "outputs": []
    },
    {
      "cell_type": "code",
      "source": [
        "#Loading data\n",
        "NUM_FEATURES_PER_SEQUENCE = 98\n",
        "\n",
        "drive.mount('/content/drive')\n",
        "folderPath = \"/content/drive/MyDrive/229 ._./Labeled/\" #change as appropriate\n",
        "file_list = [f for f in os.listdir(folderPath)]\n",
        "Xs = []\n",
        "Ys = []\n",
        "\n",
        "dtype = [('column1', 'U10')] + [('column{}'.format(i), float) for i in range(2, num_features + 1)]\n",
        "\n",
        "for file in file_list:\n",
        "  temp = np.genfromtxt(f\"{folderPath}{file}\", delimiter=',', dtype=dtype)\n",
        "  data = np.array([list(row) for row in temp])\n",
        "  Xs.append(np.array([row[7:].astype(float) for row in data]))\n",
        "  Ys.append(np.array([row[6].astype(float).astype(int) for row in data]))\n",
        "\n",
        "\n",
        "X_nonorm = np.vstack(Xs)\n",
        "mean = np.mean(X_nonorm, axis=0)\n",
        "std_dev = np.std(X_nonorm, axis=0)\n",
        "normalized_data = (X_nonorm - mean) / std_dev\n",
        "Y = np.hstack(Ys)\n",
        "X = normalized_data\n",
        "\n",
        "numSamples = len(X_nonorm)\n",
        "normalized_data = np.reshape(normalized_data, (numSamples, 6, NUM_FEATURES_PER_SEQUENCE))\n",
        "X_nonorm = np.reshape(X_nonorm, (numSamples, 6, NUM_FEATURES_PER_SEQUENCE))\n",
        "\n",
        "X = normalized_data\n",
        "\n",
        "for i in range(35,98,2):\n",
        "  X[:, :, i] = X_nonorm[:, :, i]"
      ],
      "metadata": {
        "colab": {
          "base_uri": "https://localhost:8080/"
        },
        "id": "IJyP39pU6cAq",
        "outputId": "31a7aaa4-09dc-4991-a844-06fc58eba53e"
      },
      "execution_count": 70,
      "outputs": [
        {
          "output_type": "stream",
          "name": "stdout",
          "text": [
            "Drive already mounted at /content/drive; to attempt to forcibly remount, call drive.mount(\"/content/drive\", force_remount=True).\n"
          ]
        }
      ]
    },
    {
      "cell_type": "code",
      "source": [
        "# 90 10 train test\n",
        "from sklearn.model_selection import StratifiedShuffleSplit\n",
        "\n",
        "sss_train_test = StratifiedShuffleSplit(n_splits=1, test_size=0.1, random_state=42)\n",
        "\n",
        "for train_index, test_index in sss_train_test.split(X, Y):\n",
        "    X_train, X_test = X[train_index], X[test_index]\n",
        "    y_train, y_test = Y[train_index], Y[test_index]"
      ],
      "metadata": {
        "id": "dXTbhY7AS5zj"
      },
      "execution_count": 71,
      "outputs": []
    },
    {
      "cell_type": "code",
      "source": [
        "# Build LSTM Model\n",
        "input_layer = Input(shape=(6, NUM_FEATURES_PER_SEQUENCE))\n",
        "lstm_layer1 = Bidirectional(LSTM(units=448, return_sequences=True))(input_layer) # best units so far: 448 -> 256\n",
        "lstm_layer2 = Bidirectional(LSTM(units=256))(lstm_layer1)\n",
        "feature_extractor = Model(inputs=input_layer, outputs=lstm_layer2)"
      ],
      "metadata": {
        "id": "KdrcX-PZT34i"
      },
      "execution_count": 123,
      "outputs": []
    },
    {
      "cell_type": "code",
      "source": [
        "# Extract Features from LSTM Layers\n",
        "X_train_lstm_features = feature_extractor.predict(X_train)\n",
        "X_test_lstm_features = feature_extractor.predict(X_test)"
      ],
      "metadata": {
        "colab": {
          "base_uri": "https://localhost:8080/"
        },
        "id": "u213fUt1WpzK",
        "outputId": "268e524d-f5d5-44b2-e6fd-1e560e0e98bb"
      },
      "execution_count": 124,
      "outputs": [
        {
          "output_type": "stream",
          "name": "stdout",
          "text": [
            "820/820 [==============================] - 64s 76ms/step\n",
            "92/92 [==============================] - 6s 65ms/step\n"
          ]
        }
      ]
    },
    {
      "cell_type": "code",
      "source": [
        "# Build SVM model\n",
        "svm_model = SVC(kernel='rbf', class_weight='balanced', verbose=True, decision_function_shape='ovo')"
      ],
      "metadata": {
        "id": "CMeKv7lpZOD5"
      },
      "execution_count": 125,
      "outputs": []
    },
    {
      "cell_type": "code",
      "source": [
        "# Train SVM model\n",
        "svm_model.fit(X_train_lstm_features, y_train)"
      ],
      "metadata": {
        "colab": {
          "base_uri": "https://localhost:8080/",
          "height": 93
        },
        "id": "c-t3H27-ZRd6",
        "outputId": "ccad940c-5145-410f-d149-56caa3d8aaca"
      },
      "execution_count": 126,
      "outputs": [
        {
          "output_type": "stream",
          "name": "stdout",
          "text": [
            "[LibSVM]"
          ]
        },
        {
          "output_type": "execute_result",
          "data": {
            "text/plain": [
              "SVC(class_weight='balanced', decision_function_shape='ovo', verbose=True)"
            ],
            "text/html": [
              "<style>#sk-container-id-18 {color: black;background-color: white;}#sk-container-id-18 pre{padding: 0;}#sk-container-id-18 div.sk-toggleable {background-color: white;}#sk-container-id-18 label.sk-toggleable__label {cursor: pointer;display: block;width: 100%;margin-bottom: 0;padding: 0.3em;box-sizing: border-box;text-align: center;}#sk-container-id-18 label.sk-toggleable__label-arrow:before {content: \"▸\";float: left;margin-right: 0.25em;color: #696969;}#sk-container-id-18 label.sk-toggleable__label-arrow:hover:before {color: black;}#sk-container-id-18 div.sk-estimator:hover label.sk-toggleable__label-arrow:before {color: black;}#sk-container-id-18 div.sk-toggleable__content {max-height: 0;max-width: 0;overflow: hidden;text-align: left;background-color: #f0f8ff;}#sk-container-id-18 div.sk-toggleable__content pre {margin: 0.2em;color: black;border-radius: 0.25em;background-color: #f0f8ff;}#sk-container-id-18 input.sk-toggleable__control:checked~div.sk-toggleable__content {max-height: 200px;max-width: 100%;overflow: auto;}#sk-container-id-18 input.sk-toggleable__control:checked~label.sk-toggleable__label-arrow:before {content: \"▾\";}#sk-container-id-18 div.sk-estimator input.sk-toggleable__control:checked~label.sk-toggleable__label {background-color: #d4ebff;}#sk-container-id-18 div.sk-label input.sk-toggleable__control:checked~label.sk-toggleable__label {background-color: #d4ebff;}#sk-container-id-18 input.sk-hidden--visually {border: 0;clip: rect(1px 1px 1px 1px);clip: rect(1px, 1px, 1px, 1px);height: 1px;margin: -1px;overflow: hidden;padding: 0;position: absolute;width: 1px;}#sk-container-id-18 div.sk-estimator {font-family: monospace;background-color: #f0f8ff;border: 1px dotted black;border-radius: 0.25em;box-sizing: border-box;margin-bottom: 0.5em;}#sk-container-id-18 div.sk-estimator:hover {background-color: #d4ebff;}#sk-container-id-18 div.sk-parallel-item::after {content: \"\";width: 100%;border-bottom: 1px solid gray;flex-grow: 1;}#sk-container-id-18 div.sk-label:hover label.sk-toggleable__label {background-color: #d4ebff;}#sk-container-id-18 div.sk-serial::before {content: \"\";position: absolute;border-left: 1px solid gray;box-sizing: border-box;top: 0;bottom: 0;left: 50%;z-index: 0;}#sk-container-id-18 div.sk-serial {display: flex;flex-direction: column;align-items: center;background-color: white;padding-right: 0.2em;padding-left: 0.2em;position: relative;}#sk-container-id-18 div.sk-item {position: relative;z-index: 1;}#sk-container-id-18 div.sk-parallel {display: flex;align-items: stretch;justify-content: center;background-color: white;position: relative;}#sk-container-id-18 div.sk-item::before, #sk-container-id-18 div.sk-parallel-item::before {content: \"\";position: absolute;border-left: 1px solid gray;box-sizing: border-box;top: 0;bottom: 0;left: 50%;z-index: -1;}#sk-container-id-18 div.sk-parallel-item {display: flex;flex-direction: column;z-index: 1;position: relative;background-color: white;}#sk-container-id-18 div.sk-parallel-item:first-child::after {align-self: flex-end;width: 50%;}#sk-container-id-18 div.sk-parallel-item:last-child::after {align-self: flex-start;width: 50%;}#sk-container-id-18 div.sk-parallel-item:only-child::after {width: 0;}#sk-container-id-18 div.sk-dashed-wrapped {border: 1px dashed gray;margin: 0 0.4em 0.5em 0.4em;box-sizing: border-box;padding-bottom: 0.4em;background-color: white;}#sk-container-id-18 div.sk-label label {font-family: monospace;font-weight: bold;display: inline-block;line-height: 1.2em;}#sk-container-id-18 div.sk-label-container {text-align: center;}#sk-container-id-18 div.sk-container {/* jupyter's `normalize.less` sets `[hidden] { display: none; }` but bootstrap.min.css set `[hidden] { display: none !important; }` so we also need the `!important` here to be able to override the default hidden behavior on the sphinx rendered scikit-learn.org. See: https://github.com/scikit-learn/scikit-learn/issues/21755 */display: inline-block !important;position: relative;}#sk-container-id-18 div.sk-text-repr-fallback {display: none;}</style><div id=\"sk-container-id-18\" class=\"sk-top-container\"><div class=\"sk-text-repr-fallback\"><pre>SVC(class_weight=&#x27;balanced&#x27;, decision_function_shape=&#x27;ovo&#x27;, verbose=True)</pre><b>In a Jupyter environment, please rerun this cell to show the HTML representation or trust the notebook. <br />On GitHub, the HTML representation is unable to render, please try loading this page with nbviewer.org.</b></div><div class=\"sk-container\" hidden><div class=\"sk-item\"><div class=\"sk-estimator sk-toggleable\"><input class=\"sk-toggleable__control sk-hidden--visually\" id=\"sk-estimator-id-18\" type=\"checkbox\" checked><label for=\"sk-estimator-id-18\" class=\"sk-toggleable__label sk-toggleable__label-arrow\">SVC</label><div class=\"sk-toggleable__content\"><pre>SVC(class_weight=&#x27;balanced&#x27;, decision_function_shape=&#x27;ovo&#x27;, verbose=True)</pre></div></div></div></div></div>"
            ]
          },
          "metadata": {},
          "execution_count": 126
        }
      ]
    },
    {
      "cell_type": "code",
      "source": [
        "# Evaluate SVM model\n",
        "y_pred = svm_model.predict(X_test_lstm_features)\n",
        "\n",
        "balanced_acc = balanced_accuracy_score(y_test, y_pred)\n",
        "accuracy = svm_model.score(X_test_lstm_features, y_test)\n",
        "print(f'Accuracy: {accuracy}, Balanced Accuracy: {balanced_acc}')\n",
        "cm = confusion_matrix(y_test, y_pred)\n",
        "print(\"Confusion Matrix:\")\n",
        "print(cm)"
      ],
      "metadata": {
        "colab": {
          "base_uri": "https://localhost:8080/"
        },
        "id": "hGvNvtl49EZy",
        "outputId": "c079f4e1-65ae-4c7c-fbf9-2af94f0ee5ca"
      },
      "execution_count": 127,
      "outputs": [
        {
          "output_type": "stream",
          "name": "stdout",
          "text": [
            "Accuracy: 0.720164609053498, Balanced Accuracy: 0.5439742844183459\n",
            "Confusion Matrix:\n",
            "[[1920  272  202  169]\n",
            " [  31  110   44    9]\n",
            " [  15   25   56   29]\n",
            " [   7    6    7   14]]\n"
          ]
        }
      ]
    },
    {
      "cell_type": "code",
      "source": [
        "import seaborn as sns\n",
        "\n",
        "cmr = cm / cm.sum(axis=1)[:, np.newaxis] * 100\n",
        "plt.figure(figsize=(8, 6))\n",
        "sns.heatmap(cmr, annot=True, cmap='Blues', fmt='.1f', cbar=False)\n",
        "plt.xlabel('Predicted')\n",
        "plt.ylabel('True')\n",
        "plt.title('Confusion Matrix')\n",
        "plt.savefig('cm3.png')\n",
        "plt.show()"
      ],
      "metadata": {
        "colab": {
          "base_uri": "https://localhost:8080/",
          "height": 564
        },
        "id": "oDhOA9LtCQwg",
        "outputId": "c16bd585-6237-4310-ccff-68ccdce6051c"
      },
      "execution_count": 128,
      "outputs": [
        {
          "output_type": "display_data",
          "data": {
            "text/plain": [
              "<Figure size 800x600 with 1 Axes>"
            ],
            "image/png": "[encoded data removed]"
          },
          "metadata": {}
        }
      ]
    },
    {
      "cell_type": "code",
      "source": [
        "import joblib\n",
        "from tensorflow.keras.models import save_model\n",
        "\n",
        "# Save SVM model\n",
        "joblib.dump(svm_model, 'svm_model.pkl')\n",
        "\n",
        "# Save LSTM model\n",
        "feature_extractor.save('lstm_feature_extraction.keras')"
      ],
      "metadata": {
        "id": "NUaqt0NSVzfn"
      },
      "execution_count": 110,
      "outputs": []
    }
  ]
}